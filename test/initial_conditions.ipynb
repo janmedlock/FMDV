{
 "cells": [
  {
   "cell_type": "code",
   "execution_count": 1,
   "metadata": {},
   "outputs": [],
   "source": [
    "import numpy\n",
    "import scipy.integrate\n",
    "\n",
    "from context import herd"
   ]
  },
  {
   "cell_type": "code",
   "execution_count": 2,
   "metadata": {},
   "outputs": [],
   "source": [
    "params = herd.Parameters(SAT=1)\n",
    "RVs = herd.RandomVariables(params)"
   ]
  },
  {
   "cell_type": "code",
   "execution_count": 3,
   "metadata": {},
   "outputs": [],
   "source": [
    "ages = numpy.linspace(0, 20, 201)\n",
    "p = RVs.initial_conditions.immune_status_pdf(ages)\n",
    "a = RVs.initial_conditions.ages.pdf(ages)"
   ]
  },
  {
   "cell_type": "code",
   "execution_count": 4,
   "metadata": {},
   "outputs": [
    {
     "data": {
      "text/plain": [
       "0.9850390666845843"
      ]
     },
     "execution_count": 4,
     "metadata": {},
     "output_type": "execute_result"
    }
   ],
   "source": [
    "q = p.mul(a, axis='index')\n",
    "q4 = q[q.index >= 4]\n",
    "P4 = q4.apply(scipy.integrate.trapz, args=(q4.index,))\n",
    "P4[['maternal immunity', 'recovered', 'chronic']].sum() / P4.sum()"
   ]
  },
  {
   "cell_type": "code",
   "execution_count": 5,
   "metadata": {},
   "outputs": [
    {
     "data": {
      "text/plain": [
       "0.1304453328203758"
      ]
     },
     "execution_count": 5,
     "metadata": {},
     "output_type": "execute_result"
    }
   ],
   "source": [
    "p4 = p[p.index >= 4]\n",
    "P4 = p4.apply(scipy.integrate.trapz, args=(p4.index,))\n",
    "P4[['maternal immunity', 'recovered', 'chronic']].sum() / (p4.index.max() - p4.index.min())"
   ]
  },
  {
   "cell_type": "code",
   "execution_count": null,
   "metadata": {},
   "outputs": [],
   "source": []
  }
 ],
 "metadata": {
  "kernelspec": {
   "display_name": "Python 3 (ipykernel)",
   "language": "python",
   "name": "python3"
  },
  "language_info": {
   "codemirror_mode": {
    "name": "ipython",
    "version": 3
   },
   "file_extension": ".py",
   "mimetype": "text/x-python",
   "name": "python",
   "nbconvert_exporter": "python",
   "pygments_lexer": "ipython3",
   "version": "3.10.4"
  }
 },
 "nbformat": 4,
 "nbformat_minor": 4
}
